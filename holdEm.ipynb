{
 "cells": [
  {
   "cell_type": "code",
   "execution_count": 1,
   "metadata": {
    "collapsed": false
   },
   "outputs": [],
   "source": [
    "import random"
   ]
  },
  {
   "cell_type": "code",
   "execution_count": 2,
   "metadata": {
    "collapsed": false
   },
   "outputs": [
    {
     "name": "stdout",
     "output_type": "stream",
     "text": [
      "52 cards\n",
      " ['♣2', '♣3', '♣4', '♣5', '♣6', '♣7', '♣8', '♣9', '♣10', '♣J', '♣Q', '♣K', '♣A', '♦2', '♦3', '♦4', '♦5', '♦6', '♦7', '♦8', '♦9', '♦10', '♦J', '♦Q', '♦K', '♦A', '♥2', '♥3', '♥4', '♥5', '♥6', '♥7', '♥8', '♥9', '♥10', '♥J', '♥Q', '♥K', '♥A', '♠2', '♠3', '♠4', '♠5', '♠6', '♠7', '♠8', '♠9', '♠10', '♠J', '♠Q', '♠K', '♠A']\n"
     ]
    }
   ],
   "source": [
    "cards = \"\"\"\n",
    "♣2 ♣3 ♣4 ♣5 ♣6 ♣7 ♣8 ♣9 ♣10 ♣J ♣Q ♣K ♣A\n",
    "♦2 ♦3 ♦4 ♦5 ♦6 ♦7 ♦8 ♦9 ♦10 ♦J ♦Q ♦K ♦A\n",
    "♥2 ♥3 ♥4 ♥5 ♥6 ♥7 ♥8 ♥9 ♥10 ♥J ♥Q ♥K ♥A  \n",
    "♠2 ♠3 ♠4 ♠5 ♠6 ♠7 ♠8 ♠9 ♠10 ♠J ♠Q ♠K ♠A \n",
    "\"\"\".replace('\\n', ' ').split(' ')\n",
    "cards = [card for card in cards if not card == '']\n",
    "print(len(cards), \"cards\\n\", cards)"
   ]
  },
  {
   "cell_type": "code",
   "execution_count": 3,
   "metadata": {
    "collapsed": false
   },
   "outputs": [],
   "source": [
    "def newHand():\n",
    "    deck = cards[:]\n",
    "    random.shuffle(deck)\n",
    "\n",
    "    hand = []\n",
    "\n",
    "    for a in range(5):\n",
    "        hand.append(deck.pop())\n",
    "\n",
    "    return hand"
   ]
  },
  {
   "cell_type": "code",
   "execution_count": 4,
   "metadata": {
    "collapsed": false
   },
   "outputs": [],
   "source": [
    "def straight(hand):\n",
    "    symbolMap = {'J':11, 'Q':12, 'K':13, 'A':14}\n",
    "    ranks = []\n",
    "    rawRanks = [card[1:] for card in hand]\n",
    "    for rank in rawRanks:\n",
    "        try:\n",
    "            rankAsInt = int(rank)\n",
    "        except ValueError:\n",
    "            rankAsInt = symbolMap[rank]\n",
    "\n",
    "        ranks.append(rankAsInt)\n",
    "        \n",
    "    ranks.sort()\n",
    "    straight = True\n",
    "    \n",
    "    for i in range(4):\n",
    "        if ranks[i] +1 == ranks[i+1]:\n",
    "            straight = straight and True\n",
    "        else:\n",
    "            straight = straight and False\n",
    "            \n",
    "    return straight"
   ]
  },
  {
   "cell_type": "code",
   "execution_count": 16,
   "metadata": {
    "collapsed": false
   },
   "outputs": [
    {
     "name": "stdout",
     "output_type": "stream",
     "text": [
      "56 ['♦6', '♣8', '♣5', '♥4', '♣7']\n",
      "133 ['♣5', '♠7', '♦6', '♦8', '♥4']\n",
      "490 ['♠5', '♦4', '♦2', '♦3', '♠6']\n",
      "932 ['♠10', '♦J', '♠A', '♣K', '♠Q']\n",
      "1543 ['♠10', '♥A', '♣J', '♣Q', '♣K']\n",
      "1939 ['♥9', '♣10', '♥Q', '♠K', '♦J']\n",
      "2000 ['♣7', '♣10', '♦9', '♥J', '♥8']\n",
      "2412 ['♠J', '♦9', '♣10', '♠Q', '♠8']\n",
      "0.32 %\n"
     ]
    }
   ],
   "source": [
    "# TEST Straight\n",
    "tries = 2500\n",
    "successes = 0\n",
    "for a in range(tries):\n",
    "    hand = newHand()\n",
    "    if straight(hand):\n",
    "        successes += 1\n",
    "        print(a, hand)\n",
    "print(successes/(tries/100), '%')"
   ]
  },
  {
   "cell_type": "code",
   "execution_count": 6,
   "metadata": {
    "collapsed": false
   },
   "outputs": [],
   "source": [
    "def flush(hand):\n",
    "    differentSuits = []\n",
    "    [differentSuits.append(card[0]) for card in hand if card[0] not in differentSuits]\n",
    "    return True if len(differentSuits) == 1 else False"
   ]
  },
  {
   "cell_type": "code",
   "execution_count": 7,
   "metadata": {
    "collapsed": true
   },
   "outputs": [],
   "source": [
    "def straightFlush(hand):\n",
    "    return flush(hand) and straight(hand)"
   ]
  },
  {
   "cell_type": "code",
   "execution_count": 17,
   "metadata": {
    "collapsed": false
   },
   "outputs": [
    {
     "name": "stdout",
     "output_type": "stream",
     "text": [
      "27389 ['♥Q', '♥K', '♥10', '♥J', '♥A']\n",
      "40222 ['♠7', '♠3', '♠4', '♠5', '♠6']\n",
      "60768 ['♥10', '♥A', '♥Q', '♥K', '♥J']\n",
      "78157 ['♣Q', '♣9', '♣J', '♣10', '♣8']\n",
      "440909 ['♣6', '♣8', '♣7', '♣5', '♣4']\n",
      "448467 ['♠J', '♠9', '♠K', '♠10', '♠Q']\n",
      "537227 ['♦9', '♦10', '♦8', '♦7', '♦6']\n",
      "561706 ['♠6', '♠2', '♠5', '♠3', '♠4']\n",
      "607667 ['♥7', '♥6', '♥8', '♥4', '♥5']\n",
      "649452 ['♥9', '♥Q', '♥8', '♥10', '♥J']\n",
      "651627 ['♠Q', '♠9', '♠K', '♠J', '♠10']\n",
      "800254 ['♠7', '♠6', '♠10', '♠8', '♠9']\n",
      "820194 ['♠6', '♠8', '♠9', '♠10', '♠7']\n",
      "954825 ['♣J', '♣8', '♣Q', '♣10', '♣9']\n",
      "999687 ['♠6', '♠7', '♠3', '♠5', '♠4']\n",
      "15.0 ppm\n"
     ]
    }
   ],
   "source": [
    "# TEST straightFlush\n",
    "tries = 1000000\n",
    "successes = 0\n",
    "for a in range(tries):\n",
    "    hand = newHand()\n",
    "    if straightFlush(hand):\n",
    "        successes += 1\n",
    "        print(a, hand)\n",
    "print(successes/(tries/1000000), 'ppm')"
   ]
  },
  {
   "cell_type": "code",
   "execution_count": 9,
   "metadata": {
    "collapsed": false
   },
   "outputs": [
    {
     "name": "stdout",
     "output_type": "stream",
     "text": [
      "218 ['♠4', '♠K', '♠Q', '♠A', '♠7']\n",
      "430 ['♦2', '♦6', '♦J', '♦5', '♦8']\n",
      "641 ['♠J', '♠10', '♠8', '♠4', '♠5']\n",
      "801 ['♣K', '♣5', '♣2', '♣4', '♣6']\n",
      "1508 ['♦Q', '♦K', '♦4', '♦8', '♦2']\n",
      "1905 ['♥Q', '♥2', '♥10', '♥9', '♥6']\n",
      "1919 ['♥A', '♥10', '♥3', '♥5', '♥2']\n",
      "2450 ['♥J', '♥6', '♥4', '♥5', '♥3']\n",
      "0.32 %\n"
     ]
    }
   ],
   "source": [
    "# TEST FLUSH\n",
    "tries = 2500\n",
    "successes = 0\n",
    "for a in range(tries):\n",
    "    hand = newHand()\n",
    "    if flush(hand):\n",
    "        successes += 1\n",
    "        print(a, hand)\n",
    "print(successes/(tries/100), '%')"
   ]
  },
  {
   "cell_type": "code",
   "execution_count": 10,
   "metadata": {
    "collapsed": true
   },
   "outputs": [],
   "source": [
    "def differentRank(hand):\n",
    "    differentRank = []\n",
    "    [differentRank.append(card[1:]) for card in hand if card[1:] not in differentRank]\n",
    "    return len(differentRank)"
   ]
  },
  {
   "cell_type": "code",
   "execution_count": 11,
   "metadata": {
    "collapsed": false,
    "scrolled": false
   },
   "outputs": [
    {
     "name": "stdout",
     "output_type": "stream",
     "text": [
      "12 ['♠3', '♦Q', '♦3', '♠Q', '♥3'] 2\n",
      "749 ['♠4', '♦4', '♣2', '♦2', '♣4'] 2\n",
      "1766 ['♥6', '♠A', '♦A', '♥A', '♣A'] 2\n",
      "1961 ['♣2', '♦2', '♦A', '♠2', '♥A'] 2\n",
      "0.16 %\n"
     ]
    }
   ],
   "source": [
    "# TEST 2 differentRanks #Full House and Poker\n",
    "tries = 2500\n",
    "successes = 0\n",
    "for a in range(tries):\n",
    "    hand = newHand()\n",
    "    if differentRank(hand) == 2:\n",
    "        successes += 1\n",
    "        print(a, hand, differentRank(hand))\n",
    "print(successes/(tries/100), '%')"
   ]
  },
  {
   "cell_type": "code",
   "execution_count": 12,
   "metadata": {
    "collapsed": false,
    "scrolled": false
   },
   "outputs": [
    {
     "name": "stdout",
     "output_type": "stream",
     "text": [
      "14 ['♥8', '♠8', '♣5', '♠5', '♦K'] 3\n",
      "24 ['♥A', '♣5', '♦3', '♠A', '♣A'] 3\n",
      "26 ['♠A', '♣A', '♠8', '♥K', '♣K'] 3\n",
      "34 ['♦A', '♠A', '♣A', '♥5', '♠9'] 3\n",
      "40 ['♥5', '♥Q', '♣9', '♣5', '♥9'] 3\n",
      "44 ['♦J', '♣3', '♣J', '♠7', '♥7'] 3\n",
      "47 ['♦K', '♠4', '♣K', '♥10', '♥4'] 3\n",
      "14.0 %\n"
     ]
    }
   ],
   "source": [
    "# TEST 3 different Ranks #Two Pair and Triple\n",
    "tries = 50\n",
    "successes = 0\n",
    "for a in range(tries):\n",
    "    hand = newHand()\n",
    "    if differentRank(hand) == 3:\n",
    "        successes += 1\n",
    "        print(a, hand, differentRank(hand))\n",
    "print(successes/(tries/100), '%')"
   ]
  },
  {
   "cell_type": "code",
   "execution_count": 13,
   "metadata": {
    "collapsed": false,
    "scrolled": false
   },
   "outputs": [
    {
     "name": "stdout",
     "output_type": "stream",
     "text": [
      "2 ['♦3', '♣3', '♠8', '♠2', '♥10'] 4\n",
      "5 ['♣9', '♥4', '♥10', '♦6', '♦10'] 4\n",
      "7 ['♠6', '♦A', '♦K', '♠A', '♦J'] 4\n",
      "8 ['♠8', '♣Q', '♠10', '♣8', '♣7'] 4\n",
      "10 ['♣K', '♠J', '♠A', '♦A', '♣Q'] 4\n",
      "14 ['♥A', '♦Q', '♥2', '♣K', '♠K'] 4\n",
      "17 ['♠8', '♣7', '♥3', '♠3', '♠J'] 4\n",
      "18 ['♥2', '♠3', '♠9', '♣A', '♦3'] 4\n",
      "21 ['♥7', '♥3', '♣A', '♠7', '♠J'] 4\n",
      "26 ['♣6', '♥6', '♥Q', '♦3', '♥8'] 4\n",
      "28 ['♣4', '♠A', '♠10', '♣A', '♠Q'] 4\n",
      "29 ['♥2', '♠2', '♥7', '♣Q', '♣8'] 4\n",
      "32 ['♣7', '♥7', '♦A', '♣5', '♦8'] 4\n",
      "33 ['♦8', '♣4', '♠10', '♦10', '♣7'] 4\n",
      "40 ['♣3', '♠J', '♣7', '♦5', '♥J'] 4\n",
      "41 ['♣6', '♥10', '♣3', '♦6', '♠K'] 4\n",
      "43 ['♣2', '♦5', '♦2', '♣A', '♥Q'] 4\n",
      "44 ['♦Q', '♥7', '♠J', '♠Q', '♣K'] 4\n",
      "47 ['♣K', '♦9', '♣6', '♦Q', '♣Q'] 4\n",
      "49 ['♦10', '♥10', '♦J', '♦A', '♥9'] 4\n",
      "40.0 %\n"
     ]
    }
   ],
   "source": [
    "# TEST one Pairs #one Pair\n",
    "tries = 50\n",
    "successes = 0\n",
    "for a in range(50):\n",
    "    hand = newHand()\n",
    "    if differentRank(hand) == 4:\n",
    "        successes += 1\n",
    "        print(a, hand, differentRank(hand))\n",
    "print(successes/(tries/100), '%')"
   ]
  }
 ],
 "metadata": {
  "kernelspec": {
   "display_name": "Python 3",
   "language": "python",
   "name": "python3"
  },
  "language_info": {
   "codemirror_mode": {
    "name": "ipython",
    "version": 3
   },
   "file_extension": ".py",
   "mimetype": "text/x-python",
   "name": "python",
   "nbconvert_exporter": "python",
   "pygments_lexer": "ipython3",
   "version": "3.5.2"
  }
 },
 "nbformat": 4,
 "nbformat_minor": 0
}
