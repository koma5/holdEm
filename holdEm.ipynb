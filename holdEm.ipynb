{
 "cells": [
  {
   "cell_type": "code",
   "execution_count": 1,
   "metadata": {
    "collapsed": false
   },
   "outputs": [],
   "source": [
    "import random"
   ]
  },
  {
   "cell_type": "code",
   "execution_count": 2,
   "metadata": {
    "collapsed": false
   },
   "outputs": [
    {
     "name": "stdout",
     "output_type": "stream",
     "text": [
      "52 cards\n",
      " ['♣2', '♣3', '♣4', '♣5', '♣6', '♣7', '♣8', '♣9', '♣10', '♣J', '♣Q', '♣K', '♣A', '♦2', '♦3', '♦4', '♦5', '♦6', '♦7', '♦8', '♦9', '♦10', '♦J', '♦Q', '♦K', '♦A', '♥2', '♥3', '♥4', '♥5', '♥6', '♥7', '♥8', '♥9', '♥10', '♥J', '♥Q', '♥K', '♥A', '♠2', '♠3', '♠4', '♠5', '♠6', '♠7', '♠8', '♠9', '♠10', '♠J', '♠Q', '♠K', '♠A']\n"
     ]
    }
   ],
   "source": [
    "cards = \"\"\"\n",
    "♣2 ♣3 ♣4 ♣5 ♣6 ♣7 ♣8 ♣9 ♣10 ♣J ♣Q ♣K ♣A\n",
    "♦2 ♦3 ♦4 ♦5 ♦6 ♦7 ♦8 ♦9 ♦10 ♦J ♦Q ♦K ♦A\n",
    "♥2 ♥3 ♥4 ♥5 ♥6 ♥7 ♥8 ♥9 ♥10 ♥J ♥Q ♥K ♥A  \n",
    "♠2 ♠3 ♠4 ♠5 ♠6 ♠7 ♠8 ♠9 ♠10 ♠J ♠Q ♠K ♠A \n",
    "\"\"\".replace('\\n', ' ').split(' ')\n",
    "cards = [card for card in cards if not card == '']\n",
    "print(len(cards), \"cards\\n\", cards)"
   ]
  },
  {
   "cell_type": "code",
   "execution_count": 3,
   "metadata": {
    "collapsed": false
   },
   "outputs": [],
   "source": [
    "def newHand():\n",
    "    deck = cards[:]\n",
    "    random.shuffle(deck)\n",
    "\n",
    "    hand = []\n",
    "\n",
    "    for a in range(5):\n",
    "        hand.append(deck.pop())\n",
    "\n",
    "    return hand"
   ]
  },
  {
   "cell_type": "code",
   "execution_count": 4,
   "metadata": {
    "collapsed": false
   },
   "outputs": [],
   "source": [
    "def straight(hand):\n",
    "    symbolMap = {'J':11, 'Q':12, 'K':13, 'A':14}\n",
    "    ranks = []\n",
    "    rawRanks = [card[1:] for card in hand]\n",
    "    for rank in rawRanks:\n",
    "        try:\n",
    "            rankAsInt = int(rank)\n",
    "        except ValueError:\n",
    "            rankAsInt = symbolMap[rank]\n",
    "\n",
    "        ranks.append(rankAsInt)\n",
    "        \n",
    "    ranks.sort()\n",
    "    straight = True\n",
    "    \n",
    "    for i in range(4):\n",
    "        if ranks[i] +1 == ranks[i+1]:\n",
    "            straight = straight and True\n",
    "        else:\n",
    "            straight = straight and False\n",
    "            \n",
    "    return straight"
   ]
  },
  {
   "cell_type": "code",
   "execution_count": 5,
   "metadata": {
    "collapsed": false
   },
   "outputs": [
    {
     "name": "stdout",
     "output_type": "stream",
     "text": [
      "235 ['♣8', '♦9', '♠10', '♣J', '♦Q']\n",
      "345 ['♣10', '♣8', '♥7', '♠9', '♣J']\n",
      "424 ['♦4', '♦7', '♥3', '♣6', '♠5']\n",
      "537 ['♥2', '♠5', '♥3', '♥4', '♣6']\n",
      "624 ['♠5', '♠6', '♦4', '♣8', '♣7']\n",
      "630 ['♠8', '♣Q', '♠10', '♦J', '♦9']\n",
      "1208 ['♠Q', '♦10', '♥A', '♠K', '♣J']\n",
      "1676 ['♦9', '♠Q', '♥10', '♠8', '♦J']\n",
      "1790 ['♠6', '♦7', '♦4', '♦8', '♣5']\n",
      "3.6 ‰ (promille)\n"
     ]
    }
   ],
   "source": [
    "# TEST Straight\n",
    "tries = 2500\n",
    "successes = 0\n",
    "for a in range(tries):\n",
    "    hand = newHand()\n",
    "    if straight(hand):\n",
    "        successes += 1\n",
    "        print(a, hand)\n",
    "print(successes/(tries/1000), '‰ (promille)')"
   ]
  },
  {
   "cell_type": "code",
   "execution_count": 6,
   "metadata": {
    "collapsed": false
   },
   "outputs": [],
   "source": [
    "def flush(hand):\n",
    "    differentSuits = []\n",
    "    [differentSuits.append(card[0]) for card in hand if card[0] not in differentSuits]\n",
    "    return True if len(differentSuits) == 1 else False"
   ]
  },
  {
   "cell_type": "code",
   "execution_count": 7,
   "metadata": {
    "collapsed": true
   },
   "outputs": [],
   "source": [
    "def straightFlush(hand):\n",
    "    return flush(hand) and straight(hand)"
   ]
  },
  {
   "cell_type": "code",
   "execution_count": 8,
   "metadata": {
    "collapsed": false
   },
   "outputs": [
    {
     "name": "stdout",
     "output_type": "stream",
     "text": [
      "27389 ['♥Q', '♥K', '♥10', '♥J', '♥A']\n",
      "40222 ['♠7', '♠3', '♠4', '♠5', '♠6']\n",
      "60768 ['♥10', '♥A', '♥Q', '♥K', '♥J']\n",
      "78157 ['♣Q', '♣9', '♣J', '♣10', '♣8']\n",
      "440909 ['♣6', '♣8', '♣7', '♣5', '♣4']\n",
      "448467 ['♠J', '♠9', '♠K', '♠10', '♠Q']\n",
      "537227 ['♦9', '♦10', '♦8', '♦7', '♦6']\n",
      "561706 ['♠6', '♠2', '♠5', '♠3', '♠4']\n",
      "607667 ['♥7', '♥6', '♥8', '♥4', '♥5']\n",
      "649452 ['♥9', '♥Q', '♥8', '♥10', '♥J']\n",
      "651627 ['♠Q', '♠9', '♠K', '♠J', '♠10']\n",
      "800254 ['♠7', '♠6', '♠10', '♠8', '♠9']\n",
      "820194 ['♠6', '♠8', '♠9', '♠10', '♠7']\n",
      "954825 ['♣J', '♣8', '♣Q', '♣10', '♣9']\n",
      "999687 ['♠6', '♠7', '♠3', '♠5', '♠4']\n",
      "15.0 ppm\n"
     ]
    }
   ],
   "source": [
    "# TEST straightFlush\n",
    "tries = 1000000\n",
    "successes = 0\n",
    "for a in range(tries):\n",
    "    hand = newHand()\n",
    "    if straightFlush(hand):\n",
    "        successes += 1\n",
    "        print(a, hand)\n",
    "print(successes/(tries/1000000), 'ppm')"
   ]
  },
  {
   "cell_type": "code",
   "execution_count": 9,
   "metadata": {
    "collapsed": false
   },
   "outputs": [
    {
     "name": "stdout",
     "output_type": "stream",
     "text": [
      "60 ['♥K', '♥8', '♥10', '♥5', '♥Q']\n",
      "296 ['♠4', '♠3', '♠10', '♠J', '♠7']\n",
      "743 ['♦5', '♦9', '♦10', '♦2', '♦A']\n",
      "1439 ['♦A', '♦J', '♦6', '♦10', '♦4']\n",
      "1683 ['♥2', '♥7', '♥Q', '♥A', '♥6']\n",
      "2.0 ‰ (promille)\n"
     ]
    }
   ],
   "source": [
    "# TEST FLUSH\n",
    "tries = 2500\n",
    "successes = 0\n",
    "for a in range(tries):\n",
    "    hand = newHand()\n",
    "    if flush(hand):\n",
    "        successes += 1\n",
    "        print(a, hand)\n",
    "print(successes/(tries/1000), '‰ (promille)')"
   ]
  },
  {
   "cell_type": "code",
   "execution_count": 10,
   "metadata": {
    "collapsed": false
   },
   "outputs": [],
   "source": [
    "def differentRank(hand):\n",
    "    ranks = []\n",
    "    [ranks.append(card[1:]) for card in hand]\n",
    "    rankCount = {rank : 0 for rank in ranks}\n",
    "    for rank in ranks:\n",
    "        rankCount[rank] += 1\n",
    "    return rankCount"
   ]
  },
  {
   "cell_type": "code",
   "execution_count": 11,
   "metadata": {
    "collapsed": true
   },
   "outputs": [],
   "source": [
    "def pair(hand):\n",
    "    return len(differentRank(hand)) == 4"
   ]
  },
  {
   "cell_type": "code",
   "execution_count": 12,
   "metadata": {
    "collapsed": false
   },
   "outputs": [],
   "source": [
    "def triplet(hand):\n",
    "    differentRanks = differentRank(hand)\n",
    "    differentRanksAsList = list(differentRanks.values())\n",
    "    if len(differentRanks) == 3 and 3 in differentRanksAsList:\n",
    "        return True\n",
    "    else:\n",
    "        return False    "
   ]
  },
  {
   "cell_type": "code",
   "execution_count": 13,
   "metadata": {
    "collapsed": true
   },
   "outputs": [],
   "source": [
    "def twoPair(hand):\n",
    "    differentRanks = differentRank(hand)\n",
    "    differentRanksAsList = list(differentRanks.values())\n",
    "    if len(differentRanks) == 3 and 2 in differentRanksAsList:\n",
    "        return True\n",
    "    else:\n",
    "        return False    "
   ]
  },
  {
   "cell_type": "code",
   "execution_count": 14,
   "metadata": {
    "collapsed": true
   },
   "outputs": [],
   "source": [
    "def fullHouse(hand):\n",
    "    differentRanks = differentRank(hand)\n",
    "    differentRanksAsList = list(differentRanks.values())\n",
    "    if len(differentRanks) == 2 and 3 in differentRanksAsList:\n",
    "        return True\n",
    "    else:\n",
    "        return False  "
   ]
  },
  {
   "cell_type": "code",
   "execution_count": 15,
   "metadata": {
    "collapsed": true
   },
   "outputs": [],
   "source": [
    "def poker(hand):\n",
    "    differentRanks = differentRank(hand)\n",
    "    differentRanksAsList = list(differentRanks.values())\n",
    "    if len(differentRanks) == 2 and 4 in differentRanksAsList:\n",
    "        return True\n",
    "    else:\n",
    "        return False  "
   ]
  },
  {
   "cell_type": "code",
   "execution_count": 16,
   "metadata": {
    "collapsed": false,
    "scrolled": false
   },
   "outputs": [
    {
     "name": "stdout",
     "output_type": "stream",
     "text": [
      "482 ['♣5', '♠4', '♥5', '♣4', '♠5']\n",
      "1344 ['♦Q', '♣5', '♥5', '♠5', '♥Q']\n",
      "1683 ['♠6', '♥2', '♠2', '♣2', '♣6']\n",
      "1.2 ‰ (promille)\n"
     ]
    }
   ],
   "source": [
    "# TEST Full House\n",
    "tries = 2500\n",
    "successes = 0\n",
    "for a in range(tries):\n",
    "    hand = newHand()\n",
    "    if fullHouse(hand):\n",
    "        successes += 1\n",
    "        print(a, hand)\n",
    "print(successes/(tries/1000), '‰ (promille)')"
   ]
  },
  {
   "cell_type": "code",
   "execution_count": 17,
   "metadata": {
    "collapsed": false
   },
   "outputs": [
    {
     "name": "stdout",
     "output_type": "stream",
     "text": [
      "7163 ['♥4', '♦4', '♠K', '♣4', '♠4']\n",
      "12773 ['♣Q', '♠Q', '♥J', '♥Q', '♦Q']\n",
      "14790 ['♠J', '♦J', '♣5', '♣J', '♥J']\n",
      "15054 ['♥6', '♦4', '♣6', '♦6', '♠6']\n",
      "1.6 ‱ (per ten thousend)\n"
     ]
    }
   ],
   "source": [
    "# TEST Poker\n",
    "tries = 25000\n",
    "successes = 0\n",
    "for a in range(tries):\n",
    "    hand = newHand()\n",
    "    if poker(hand):\n",
    "        successes += 1\n",
    "        print(a, hand)\n",
    "print(successes/(tries/10000), '‱ (per ten thousend)')"
   ]
  },
  {
   "cell_type": "code",
   "execution_count": 18,
   "metadata": {
    "collapsed": false,
    "scrolled": false
   },
   "outputs": [
    {
     "name": "stdout",
     "output_type": "stream",
     "text": [
      "9 ['♥9', '♠4', '♦3', '♣9', '♣4']\n",
      "15 ['♦7', '♦3', '♠6', '♠3', '♣6']\n",
      "126 ['♦A', '♥10', '♠4', '♥A', '♣4']\n",
      "141 ['♠7', '♦4', '♣3', '♠4', '♦3']\n",
      "158 ['♥Q', '♠Q', '♠J', '♣J', '♦5']\n",
      "185 ['♠7', '♠9', '♦9', '♣4', '♥7']\n",
      "3.0 %\n"
     ]
    }
   ],
   "source": [
    "# TEST Two Pair\n",
    "tries = 200\n",
    "successes = 0\n",
    "for a in range(tries):\n",
    "    hand = newHand()\n",
    "    if twoPair(hand):\n",
    "        successes += 1\n",
    "        print(a, hand)\n",
    "print(successes/(tries/100), '%')"
   ]
  },
  {
   "cell_type": "code",
   "execution_count": 19,
   "metadata": {
    "collapsed": false
   },
   "outputs": [
    {
     "name": "stdout",
     "output_type": "stream",
     "text": [
      "33 ['♥A', '♠A', '♦A', '♣10', '♠9']\n",
      "36 ['♠4', '♥8', '♣9', '♣4', '♥4']\n",
      "86 ['♣6', '♦Q', '♠K', '♥6', '♠6']\n",
      "106 ['♠3', '♣5', '♦9', '♣9', '♠9']\n",
      "121 ['♦K', '♦10', '♣K', '♠7', '♠K']\n",
      "161 ['♦9', '♣10', '♠4', '♣4', '♥4']\n",
      "169 ['♠9', '♦J', '♠10', '♥9', '♣9']\n",
      "254 ['♦K', '♠5', '♣K', '♥K', '♣A']\n",
      "267 ['♥Q', '♠3', '♣6', '♥3', '♦3']\n",
      "272 ['♦Q', '♥8', '♠5', '♠8', '♦8']\n",
      "281 ['♦5', '♥2', '♦2', '♠2', '♦6']\n",
      "323 ['♥3', '♠3', '♠9', '♦3', '♣8']\n",
      "337 ['♥Q', '♠2', '♦Q', '♣6', '♠Q']\n",
      "371 ['♥7', '♦Q', '♦J', '♦7', '♣7']\n",
      "449 ['♠K', '♣5', '♣3', '♥K', '♦K']\n",
      "482 ['♦A', '♥A', '♣8', '♣10', '♣A']\n",
      "496 ['♥4', '♣4', '♥2', '♦4', '♥A']\n",
      "3.4 %\n"
     ]
    }
   ],
   "source": [
    "# TEST Triplet\n",
    "tries = 500\n",
    "successes = 0\n",
    "for a in range(tries):\n",
    "    hand = newHand()\n",
    "    if triplet(hand):\n",
    "        successes += 1\n",
    "        print(a, hand)\n",
    "print(successes/(tries/100), '%')"
   ]
  },
  {
   "cell_type": "code",
   "execution_count": 20,
   "metadata": {
    "collapsed": false,
    "scrolled": false
   },
   "outputs": [
    {
     "name": "stdout",
     "output_type": "stream",
     "text": [
      "0 ['♦J', '♦K', '♣J', '♥10', '♥8']\n",
      "2 ['♣2', '♣9', '♦A', '♠2', '♦7']\n",
      "3 ['♦K', '♦7', '♦5', '♦3', '♥3']\n",
      "5 ['♥3', '♣Q', '♣9', '♦9', '♣8']\n",
      "6 ['♥8', '♦J', '♥Q', '♥6', '♠Q']\n",
      "7 ['♦K', '♣Q', '♦8', '♣7', '♠K']\n",
      "9 ['♠2', '♠8', '♦7', '♥8', '♠5']\n",
      "13 ['♠Q', '♠10', '♥K', '♦8', '♥Q']\n",
      "14 ['♠3', '♥Q', '♥K', '♣K', '♣A']\n",
      "16 ['♦K', '♦6', '♣10', '♥4', '♣4']\n",
      "17 ['♠2', '♣10', '♥6', '♦8', '♣8']\n",
      "18 ['♠Q', '♠J', '♣8', '♠8', '♣6']\n",
      "19 ['♥5', '♥10', '♥6', '♥7', '♣7']\n",
      "23 ['♦K', '♥J', '♦5', '♣6', '♠K']\n",
      "56.0 %\n"
     ]
    }
   ],
   "source": [
    "# TEST one Pair\n",
    "tries = 25\n",
    "successes = 0\n",
    "for a in range(tries):\n",
    "    hand = newHand()\n",
    "    if pair(hand):\n",
    "        successes += 1\n",
    "        print(a, hand)\n",
    "print(successes/(tries/100), '%')"
   ]
  },
  {
   "cell_type": "code",
   "execution_count": null,
   "metadata": {
    "collapsed": true
   },
   "outputs": [],
   "source": []
  }
 ],
 "metadata": {
  "kernelspec": {
   "display_name": "Python 3",
   "language": "python",
   "name": "python3"
  },
  "language_info": {
   "codemirror_mode": {
    "name": "ipython",
    "version": 3
   },
   "file_extension": ".py",
   "mimetype": "text/x-python",
   "name": "python",
   "nbconvert_exporter": "python",
   "pygments_lexer": "ipython3",
   "version": "3.5.2"
  }
 },
 "nbformat": 4,
 "nbformat_minor": 0
}
