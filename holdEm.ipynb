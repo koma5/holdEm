{
 "cells": [
  {
   "cell_type": "code",
   "execution_count": 1,
   "metadata": {
    "collapsed": false
   },
   "outputs": [],
   "source": [
    "import random"
   ]
  },
  {
   "cell_type": "code",
   "execution_count": 2,
   "metadata": {
    "collapsed": false
   },
   "outputs": [
    {
     "name": "stdout",
     "output_type": "stream",
     "text": [
      "52 cards\n",
      " ['♣2', '♣3', '♣4', '♣5', '♣6', '♣7', '♣8', '♣9', '♣10', '♣J', '♣Q', '♣K', '♣A', '♦2', '♦3', '♦4', '♦5', '♦6', '♦7', '♦8', '♦9', '♦10', '♦J', '♦Q', '♦K', '♦A', '♥2', '♥3', '♥4', '♥5', '♥6', '♥7', '♥8', '♥9', '♥10', '♥J', '♥Q', '♥K', '♥A', '♠2', '♠3', '♠4', '♠5', '♠6', '♠7', '♠8', '♠9', '♠10', '♠J', '♠Q', '♠K', '♠A']\n"
     ]
    }
   ],
   "source": [
    "cards = \"\"\"\n",
    "♣2 ♣3 ♣4 ♣5 ♣6 ♣7 ♣8 ♣9 ♣10 ♣J ♣Q ♣K ♣A\n",
    "♦2 ♦3 ♦4 ♦5 ♦6 ♦7 ♦8 ♦9 ♦10 ♦J ♦Q ♦K ♦A\n",
    "♥2 ♥3 ♥4 ♥5 ♥6 ♥7 ♥8 ♥9 ♥10 ♥J ♥Q ♥K ♥A  \n",
    "♠2 ♠3 ♠4 ♠5 ♠6 ♠7 ♠8 ♠9 ♠10 ♠J ♠Q ♠K ♠A \n",
    "\"\"\".replace('\\n', ' ').split(' ')\n",
    "cards = [card for card in cards if not card == '']\n",
    "print(len(cards), \"cards\\n\", cards)"
   ]
  },
  {
   "cell_type": "code",
   "execution_count": 3,
   "metadata": {
    "collapsed": false
   },
   "outputs": [],
   "source": [
    "def newHand():\n",
    "    deck = cards[:]\n",
    "    random.shuffle(deck)\n",
    "\n",
    "    hand = []\n",
    "\n",
    "    for a in range(5):\n",
    "        hand.append(deck.pop())\n",
    "\n",
    "    return hand"
   ]
  },
  {
   "cell_type": "code",
   "execution_count": 4,
   "metadata": {
    "collapsed": false
   },
   "outputs": [],
   "source": [
    "def straight(hand):\n",
    "    symbolMap = {'J':11, 'Q':12, 'K':13}\n",
    "    ranks = []\n",
    "    rawRanks = [card[1:] for card in hand]\n",
    "    if 'K' in rawRanks: #A as highest and lowest card\n",
    "        symbolMap['A'] = 14\n",
    "    else:\n",
    "        symbolMap['A'] = 1\n",
    "    for rank in rawRanks:\n",
    "        try:\n",
    "            rankAsInt = int(rank)\n",
    "        except ValueError:\n",
    "            rankAsInt = symbolMap[rank]\n",
    "\n",
    "        ranks.append(rankAsInt)\n",
    "        \n",
    "    ranks.sort()\n",
    "    straight = True\n",
    "    \n",
    "    for i in range(4):\n",
    "        if ranks[i] +1 == ranks[i+1]:\n",
    "            straight = straight and True\n",
    "        else:\n",
    "            straight = straight and False\n",
    "            \n",
    "    return straight"
   ]
  },
  {
   "cell_type": "code",
   "execution_count": 5,
   "metadata": {
    "collapsed": false
   },
   "outputs": [
    {
     "name": "stdout",
     "output_type": "stream",
     "text": [
      "233 ['♣4', '♣7', '♥5', '♠6', '♠3']\n",
      "346 ['♥J', '♦7', '♥9', '♥10', '♦8']\n",
      "756 ['♦9', '♦Q', '♥10', '♠8', '♣J']\n",
      "842 ['♠8', '♠7', '♥4', '♠6', '♥5']\n",
      "986 ['♦4', '♣5', '♠3', '♦2', '♥A']\n",
      "1593 ['♥5', '♥3', '♦A', '♣4', '♠2']\n",
      "1925 ['♦8', '♦10', '♦9', '♦Q', '♣J']\n",
      "2122 ['♣J', '♦Q', '♣10', '♥K', '♠A']\n",
      "2358 ['♦7', '♠3', '♥5', '♦6', '♥4']\n",
      "3.6 ‰ (promille)\n"
     ]
    }
   ],
   "source": [
    "# TEST Straight\n",
    "tries = 2500\n",
    "successes = 0\n",
    "for a in range(tries):\n",
    "    hand = newHand()\n",
    "    if straight(hand):\n",
    "        successes += 1\n",
    "        print(a, hand)\n",
    "print(successes/(tries/1000), '‰ (promille)')"
   ]
  },
  {
   "cell_type": "code",
   "execution_count": 6,
   "metadata": {
    "collapsed": false
   },
   "outputs": [],
   "source": [
    "def flush(hand):\n",
    "    differentSuits = []\n",
    "    [differentSuits.append(card[0]) for card in hand if card[0] not in differentSuits]\n",
    "    return True if len(differentSuits) == 1 else False"
   ]
  },
  {
   "cell_type": "code",
   "execution_count": 7,
   "metadata": {
    "collapsed": true
   },
   "outputs": [],
   "source": [
    "def straightFlush(hand):\n",
    "    return flush(hand) and straight(hand)"
   ]
  },
  {
   "cell_type": "code",
   "execution_count": 8,
   "metadata": {
    "collapsed": false
   },
   "outputs": [
    {
     "name": "stdout",
     "output_type": "stream",
     "text": [
      "27389 ['♥Q', '♥K', '♥10', '♥J', '♥A']\n",
      "40222 ['♠7', '♠3', '♠4', '♠5', '♠6']\n",
      "60768 ['♥10', '♥A', '♥Q', '♥K', '♥J']\n",
      "177111 ['♠5', '♠7', '♠4', '♠6', '♠8']\n",
      "318214 ['♥9', '♥J', '♥Q', '♥8', '♥10']\n",
      "362684 ['♦10', '♦9', '♦J', '♦Q', '♦8']\n",
      "400494 ['♦Q', '♦10', '♦8', '♦J', '♦9']\n",
      "418285 ['♠9', '♠Q', '♠J', '♠10', '♠8']\n",
      "458292 ['♣2', '♣5', '♣4', '♣3', '♣6']\n",
      "471500 ['♣5', '♣3', '♣4', '♣2', '♣6']\n",
      "477692 ['♣6', '♣4', '♣3', '♣7', '♣5']\n",
      "569869 ['♣6', '♣4', '♣3', '♣5', '♣2']\n",
      "609322 ['♦9', '♦J', '♦K', '♦10', '♦Q']\n",
      "707118 ['♦10', '♦K', '♦Q', '♦A', '♦J']\n",
      "713790 ['♣6', '♣8', '♣9', '♣5', '♣7']\n",
      "763051 ['♠5', '♠6', '♠7', '♠4', '♠8']\n",
      "799710 ['♣2', '♣3', '♣4', '♣A', '♣5']\n",
      "895871 ['♥3', '♥4', '♥5', '♥6', '♥7']\n",
      "972585 ['♦Q', '♦J', '♦10', '♦9', '♦K']\n",
      "19.0 ppm\n"
     ]
    }
   ],
   "source": [
    "# TEST straightFlush\n",
    "tries = 1000000\n",
    "successes = 0\n",
    "for a in range(tries):\n",
    "    hand = newHand()\n",
    "    if straightFlush(hand):\n",
    "        successes += 1\n",
    "        print(a, hand)\n",
    "print(successes/(tries/1000000), 'ppm')"
   ]
  },
  {
   "cell_type": "code",
   "execution_count": 9,
   "metadata": {
    "collapsed": false
   },
   "outputs": [
    {
     "name": "stdout",
     "output_type": "stream",
     "text": [
      "60 ['♥K', '♥8', '♥10', '♥5', '♥Q']\n",
      "296 ['♠4', '♠3', '♠10', '♠J', '♠7']\n",
      "743 ['♦5', '♦9', '♦10', '♦2', '♦A']\n",
      "1439 ['♦A', '♦J', '♦6', '♦10', '♦4']\n",
      "1683 ['♥2', '♥7', '♥Q', '♥A', '♥6']\n",
      "2.0 ‰ (promille)\n"
     ]
    }
   ],
   "source": [
    "# TEST FLUSH\n",
    "tries = 2500\n",
    "successes = 0\n",
    "for a in range(tries):\n",
    "    hand = newHand()\n",
    "    if flush(hand):\n",
    "        successes += 1\n",
    "        print(a, hand)\n",
    "print(successes/(tries/1000), '‰ (promille)')"
   ]
  },
  {
   "cell_type": "code",
   "execution_count": 10,
   "metadata": {
    "collapsed": false
   },
   "outputs": [],
   "source": [
    "def differentRank(hand):\n",
    "    ranks = []\n",
    "    [ranks.append(card[1:]) for card in hand]\n",
    "    rankCount = {rank : 0 for rank in ranks}\n",
    "    for rank in ranks:\n",
    "        rankCount[rank] += 1\n",
    "    return rankCount"
   ]
  },
  {
   "cell_type": "code",
   "execution_count": 11,
   "metadata": {
    "collapsed": true
   },
   "outputs": [],
   "source": [
    "def pair(hand):\n",
    "    return len(differentRank(hand)) == 4"
   ]
  },
  {
   "cell_type": "code",
   "execution_count": 12,
   "metadata": {
    "collapsed": false
   },
   "outputs": [],
   "source": [
    "def triplet(hand):\n",
    "    differentRanks = differentRank(hand)\n",
    "    differentRanksAsList = list(differentRanks.values())\n",
    "    if len(differentRanks) == 3 and 3 in differentRanksAsList:\n",
    "        return True\n",
    "    else:\n",
    "        return False    "
   ]
  },
  {
   "cell_type": "code",
   "execution_count": 13,
   "metadata": {
    "collapsed": true
   },
   "outputs": [],
   "source": [
    "def twoPair(hand):\n",
    "    differentRanks = differentRank(hand)\n",
    "    differentRanksAsList = list(differentRanks.values())\n",
    "    if len(differentRanks) == 3 and 2 in differentRanksAsList:\n",
    "        return True\n",
    "    else:\n",
    "        return False    "
   ]
  },
  {
   "cell_type": "code",
   "execution_count": 14,
   "metadata": {
    "collapsed": true
   },
   "outputs": [],
   "source": [
    "def fullHouse(hand):\n",
    "    differentRanks = differentRank(hand)\n",
    "    differentRanksAsList = list(differentRanks.values())\n",
    "    if len(differentRanks) == 2 and 3 in differentRanksAsList:\n",
    "        return True\n",
    "    else:\n",
    "        return False  "
   ]
  },
  {
   "cell_type": "code",
   "execution_count": 15,
   "metadata": {
    "collapsed": true
   },
   "outputs": [],
   "source": [
    "def poker(hand):\n",
    "    differentRanks = differentRank(hand)\n",
    "    differentRanksAsList = list(differentRanks.values())\n",
    "    if len(differentRanks) == 2 and 4 in differentRanksAsList:\n",
    "        return True\n",
    "    else:\n",
    "        return False  "
   ]
  },
  {
   "cell_type": "code",
   "execution_count": 16,
   "metadata": {
    "collapsed": false,
    "scrolled": false
   },
   "outputs": [
    {
     "name": "stdout",
     "output_type": "stream",
     "text": [
      "482 ['♣5', '♠4', '♥5', '♣4', '♠5']\n",
      "1344 ['♦Q', '♣5', '♥5', '♠5', '♥Q']\n",
      "1683 ['♠6', '♥2', '♠2', '♣2', '♣6']\n",
      "1.2 ‰ (promille)\n"
     ]
    }
   ],
   "source": [
    "# TEST Full House\n",
    "tries = 2500\n",
    "successes = 0\n",
    "for a in range(tries):\n",
    "    hand = newHand()\n",
    "    if fullHouse(hand):\n",
    "        successes += 1\n",
    "        print(a, hand)\n",
    "print(successes/(tries/1000), '‰ (promille)')"
   ]
  },
  {
   "cell_type": "code",
   "execution_count": 17,
   "metadata": {
    "collapsed": false
   },
   "outputs": [
    {
     "name": "stdout",
     "output_type": "stream",
     "text": [
      "7163 ['♥4', '♦4', '♠K', '♣4', '♠4']\n",
      "12773 ['♣Q', '♠Q', '♥J', '♥Q', '♦Q']\n",
      "14790 ['♠J', '♦J', '♣5', '♣J', '♥J']\n",
      "15054 ['♥6', '♦4', '♣6', '♦6', '♠6']\n",
      "1.6 ‱ (per ten thousend)\n"
     ]
    }
   ],
   "source": [
    "# TEST Poker\n",
    "tries = 25000\n",
    "successes = 0\n",
    "for a in range(tries):\n",
    "    hand = newHand()\n",
    "    if poker(hand):\n",
    "        successes += 1\n",
    "        print(a, hand)\n",
    "print(successes/(tries/10000), '‱ (per ten thousend)')"
   ]
  },
  {
   "cell_type": "code",
   "execution_count": 18,
   "metadata": {
    "collapsed": false,
    "scrolled": false
   },
   "outputs": [
    {
     "name": "stdout",
     "output_type": "stream",
     "text": [
      "9 ['♥9', '♠4', '♦3', '♣9', '♣4']\n",
      "15 ['♦7', '♦3', '♠6', '♠3', '♣6']\n",
      "126 ['♦A', '♥10', '♠4', '♥A', '♣4']\n",
      "141 ['♠7', '♦4', '♣3', '♠4', '♦3']\n",
      "158 ['♥Q', '♠Q', '♠J', '♣J', '♦5']\n",
      "185 ['♠7', '♠9', '♦9', '♣4', '♥7']\n",
      "3.0 %\n"
     ]
    }
   ],
   "source": [
    "# TEST Two Pair\n",
    "tries = 200\n",
    "successes = 0\n",
    "for a in range(tries):\n",
    "    hand = newHand()\n",
    "    if twoPair(hand):\n",
    "        successes += 1\n",
    "        print(a, hand)\n",
    "print(successes/(tries/100), '%')"
   ]
  },
  {
   "cell_type": "code",
   "execution_count": 19,
   "metadata": {
    "collapsed": false
   },
   "outputs": [
    {
     "name": "stdout",
     "output_type": "stream",
     "text": [
      "33 ['♥A', '♠A', '♦A', '♣10', '♠9']\n",
      "36 ['♠4', '♥8', '♣9', '♣4', '♥4']\n",
      "86 ['♣6', '♦Q', '♠K', '♥6', '♠6']\n",
      "106 ['♠3', '♣5', '♦9', '♣9', '♠9']\n",
      "121 ['♦K', '♦10', '♣K', '♠7', '♠K']\n",
      "161 ['♦9', '♣10', '♠4', '♣4', '♥4']\n",
      "169 ['♠9', '♦J', '♠10', '♥9', '♣9']\n",
      "254 ['♦K', '♠5', '♣K', '♥K', '♣A']\n",
      "267 ['♥Q', '♠3', '♣6', '♥3', '♦3']\n",
      "272 ['♦Q', '♥8', '♠5', '♠8', '♦8']\n",
      "281 ['♦5', '♥2', '♦2', '♠2', '♦6']\n",
      "323 ['♥3', '♠3', '♠9', '♦3', '♣8']\n",
      "337 ['♥Q', '♠2', '♦Q', '♣6', '♠Q']\n",
      "371 ['♥7', '♦Q', '♦J', '♦7', '♣7']\n",
      "449 ['♠K', '♣5', '♣3', '♥K', '♦K']\n",
      "482 ['♦A', '♥A', '♣8', '♣10', '♣A']\n",
      "496 ['♥4', '♣4', '♥2', '♦4', '♥A']\n",
      "3.4 %\n"
     ]
    }
   ],
   "source": [
    "# TEST Triplet\n",
    "tries = 500\n",
    "successes = 0\n",
    "for a in range(tries):\n",
    "    hand = newHand()\n",
    "    if triplet(hand):\n",
    "        successes += 1\n",
    "        print(a, hand)\n",
    "print(successes/(tries/100), '%')"
   ]
  },
  {
   "cell_type": "code",
   "execution_count": 20,
   "metadata": {
    "collapsed": false,
    "scrolled": false
   },
   "outputs": [
    {
     "name": "stdout",
     "output_type": "stream",
     "text": [
      "0 ['♦J', '♦K', '♣J', '♥10', '♥8']\n",
      "2 ['♣2', '♣9', '♦A', '♠2', '♦7']\n",
      "3 ['♦K', '♦7', '♦5', '♦3', '♥3']\n",
      "5 ['♥3', '♣Q', '♣9', '♦9', '♣8']\n",
      "6 ['♥8', '♦J', '♥Q', '♥6', '♠Q']\n",
      "7 ['♦K', '♣Q', '♦8', '♣7', '♠K']\n",
      "9 ['♠2', '♠8', '♦7', '♥8', '♠5']\n",
      "13 ['♠Q', '♠10', '♥K', '♦8', '♥Q']\n",
      "14 ['♠3', '♥Q', '♥K', '♣K', '♣A']\n",
      "16 ['♦K', '♦6', '♣10', '♥4', '♣4']\n",
      "17 ['♠2', '♣10', '♥6', '♦8', '♣8']\n",
      "18 ['♠Q', '♠J', '♣8', '♠8', '♣6']\n",
      "19 ['♥5', '♥10', '♥6', '♥7', '♣7']\n",
      "23 ['♦K', '♥J', '♦5', '♣6', '♠K']\n",
      "56.0 %\n"
     ]
    }
   ],
   "source": [
    "# TEST one Pair\n",
    "tries = 25\n",
    "successes = 0\n",
    "for a in range(tries):\n",
    "    hand = newHand()\n",
    "    if pair(hand):\n",
    "        successes += 1\n",
    "        print(a, hand)\n",
    "print(successes/(tries/100), '%')"
   ]
  }
 ],
 "metadata": {
  "kernelspec": {
   "display_name": "Python 3",
   "language": "python",
   "name": "python3"
  },
  "language_info": {
   "codemirror_mode": {
    "name": "ipython",
    "version": 3
   },
   "file_extension": ".py",
   "mimetype": "text/x-python",
   "name": "python",
   "nbconvert_exporter": "python",
   "pygments_lexer": "ipython3",
   "version": "3.5.2"
  }
 },
 "nbformat": 4,
 "nbformat_minor": 0
}
